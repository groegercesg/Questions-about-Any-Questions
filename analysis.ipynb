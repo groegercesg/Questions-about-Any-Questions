{
 "cells": [
  {
   "cell_type": "code",
   "execution_count": 3,
   "metadata": {},
   "outputs": [],
   "source": [
    "import pandas as pd\n",
    "episodeDetails = pd.read_pickle('episode_details.pkl')"
   ]
  },
  {
   "cell_type": "code",
   "execution_count": 4,
   "metadata": {},
   "outputs": [
    {
     "data": {
      "text/html": [
       "<div>\n",
       "<style scoped>\n",
       "    .dataframe tbody tr th:only-of-type {\n",
       "        vertical-align: middle;\n",
       "    }\n",
       "\n",
       "    .dataframe tbody tr th {\n",
       "        vertical-align: top;\n",
       "    }\n",
       "\n",
       "    .dataframe thead th {\n",
       "        text-align: right;\n",
       "    }\n",
       "</style>\n",
       "<table border=\"1\" class=\"dataframe\">\n",
       "  <thead>\n",
       "    <tr style=\"text-align: right;\">\n",
       "      <th></th>\n",
       "      <th>Episode Code</th>\n",
       "      <th>Title</th>\n",
       "      <th>Release Date</th>\n",
       "      <th>Body Text</th>\n",
       "    </tr>\n",
       "  </thead>\n",
       "  <tbody>\n",
       "    <tr>\n",
       "      <th>0</th>\n",
       "      <td>m0017cry</td>\n",
       "      <td>Lord Blunkett, David Davis MP, Nancy Fielder, ...</td>\n",
       "      <td>20 May 2022</td>\n",
       "      <td>Chris Mason presents political debate and disc...</td>\n",
       "    </tr>\n",
       "    <tr>\n",
       "      <th>1</th>\n",
       "      <td>m00174ld</td>\n",
       "      <td>Catrina Davies, Jim McMahon MP, Selaine Saxby ...</td>\n",
       "      <td>13 May 2022</td>\n",
       "      <td>Chris Mason presents political debate and disc...</td>\n",
       "    </tr>\n",
       "    <tr>\n",
       "      <th>2</th>\n",
       "      <td>m0016y66</td>\n",
       "      <td>Bim Afolami MP, Dame Margaret Beckett MP, Hele...</td>\n",
       "      <td>06 May 2022</td>\n",
       "      <td>Chris Mason presents political debate and disc...</td>\n",
       "    </tr>\n",
       "    <tr>\n",
       "      <th>3</th>\n",
       "      <td>m0016ppj</td>\n",
       "      <td>Dr Stephen Farry MP, John Finucane MP, Claire ...</td>\n",
       "      <td>29 Apr 2022</td>\n",
       "      <td>Chris Mason presents political debate and disc...</td>\n",
       "    </tr>\n",
       "    <tr>\n",
       "      <th>4</th>\n",
       "      <td>m0016hj0</td>\n",
       "      <td>Sir Geoffrey Clifton-Brown MP, Dame Meg Hillie...</td>\n",
       "      <td>22 Apr 2022</td>\n",
       "      <td>Anita Anand presents political debate and disc...</td>\n",
       "    </tr>\n",
       "  </tbody>\n",
       "</table>\n",
       "</div>"
      ],
      "text/plain": [
       "  Episode Code                                              Title  \\\n",
       "0     m0017cry  Lord Blunkett, David Davis MP, Nancy Fielder, ...   \n",
       "1     m00174ld  Catrina Davies, Jim McMahon MP, Selaine Saxby ...   \n",
       "2     m0016y66  Bim Afolami MP, Dame Margaret Beckett MP, Hele...   \n",
       "3     m0016ppj  Dr Stephen Farry MP, John Finucane MP, Claire ...   \n",
       "4     m0016hj0  Sir Geoffrey Clifton-Brown MP, Dame Meg Hillie...   \n",
       "\n",
       "  Release Date                                          Body Text  \n",
       "0  20 May 2022  Chris Mason presents political debate and disc...  \n",
       "1  13 May 2022  Chris Mason presents political debate and disc...  \n",
       "2  06 May 2022  Chris Mason presents political debate and disc...  \n",
       "3  29 Apr 2022  Chris Mason presents political debate and disc...  \n",
       "4  22 Apr 2022  Anita Anand presents political debate and disc...  "
      ]
     },
     "execution_count": 4,
     "metadata": {},
     "output_type": "execute_result"
    }
   ],
   "source": [
    "episodeDetails.head()"
   ]
  }
 ],
 "metadata": {
  "interpreter": {
   "hash": "e7370f93d1d0cde622a1f8e1c04877d8463912d04d973331ad4851f04de6915a"
  },
  "kernelspec": {
   "display_name": "Python 3.10.4 64-bit",
   "language": "python",
   "name": "python3"
  },
  "language_info": {
   "codemirror_mode": {
    "name": "ipython",
    "version": 3
   },
   "file_extension": ".py",
   "mimetype": "text/x-python",
   "name": "python",
   "nbconvert_exporter": "python",
   "pygments_lexer": "ipython3",
   "version": "3.10.4"
  },
  "orig_nbformat": 4
 },
 "nbformat": 4,
 "nbformat_minor": 2
}
