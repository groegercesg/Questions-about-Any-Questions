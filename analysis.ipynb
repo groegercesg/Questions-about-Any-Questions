{
 "cells": [
  {
   "cell_type": "code",
   "execution_count": 110,
   "metadata": {},
   "outputs": [],
   "source": [
    "import pandas as pd\n",
    "episodeDetails = pd.read_pickle('episode_details.pkl')"
   ]
  },
  {
   "cell_type": "code",
   "execution_count": 111,
   "metadata": {},
   "outputs": [],
   "source": [
    "# Data Clean-up\n",
    "# Remove row 50, 71\n",
    "# As these rows are duplicates and smaller\n",
    "episodeDetails = episodeDetails.drop([50, 71])\n",
    "# Fix the date for a set row, as it's wrong\n",
    "episodeDetails.at[588, 'Release Date'] = episodeDetails.iloc[586].Title"
   ]
  },
  {
   "cell_type": "code",
   "execution_count": 112,
   "metadata": {},
   "outputs": [
    {
     "data": {
      "text/html": [
       "<div>\n",
       "<style scoped>\n",
       "    .dataframe tbody tr th:only-of-type {\n",
       "        vertical-align: middle;\n",
       "    }\n",
       "\n",
       "    .dataframe tbody tr th {\n",
       "        vertical-align: top;\n",
       "    }\n",
       "\n",
       "    .dataframe thead th {\n",
       "        text-align: right;\n",
       "    }\n",
       "</style>\n",
       "<table border=\"1\" class=\"dataframe\">\n",
       "  <thead>\n",
       "    <tr style=\"text-align: right;\">\n",
       "      <th></th>\n",
       "      <th>Episode Code</th>\n",
       "      <th>Title</th>\n",
       "      <th>Release Date</th>\n",
       "      <th>Body Text</th>\n",
       "    </tr>\n",
       "  </thead>\n",
       "  <tbody>\n",
       "    <tr>\n",
       "      <th>0</th>\n",
       "      <td>m0017cry</td>\n",
       "      <td>Lord Blunkett, David Davis MP, Nancy Fielder, ...</td>\n",
       "      <td>20 May 2022</td>\n",
       "      <td>Chris Mason presents political debate and disc...</td>\n",
       "    </tr>\n",
       "    <tr>\n",
       "      <th>1</th>\n",
       "      <td>m00174ld</td>\n",
       "      <td>Catrina Davies, Jim McMahon MP, Selaine Saxby ...</td>\n",
       "      <td>13 May 2022</td>\n",
       "      <td>Chris Mason presents political debate and disc...</td>\n",
       "    </tr>\n",
       "    <tr>\n",
       "      <th>2</th>\n",
       "      <td>m0016y66</td>\n",
       "      <td>Bim Afolami MP, Dame Margaret Beckett MP, Hele...</td>\n",
       "      <td>06 May 2022</td>\n",
       "      <td>Chris Mason presents political debate and disc...</td>\n",
       "    </tr>\n",
       "    <tr>\n",
       "      <th>3</th>\n",
       "      <td>m0016ppj</td>\n",
       "      <td>Dr Stephen Farry MP, John Finucane MP, Claire ...</td>\n",
       "      <td>29 Apr 2022</td>\n",
       "      <td>Chris Mason presents political debate and disc...</td>\n",
       "    </tr>\n",
       "    <tr>\n",
       "      <th>4</th>\n",
       "      <td>m0016hj0</td>\n",
       "      <td>Sir Geoffrey Clifton-Brown MP, Dame Meg Hillie...</td>\n",
       "      <td>22 Apr 2022</td>\n",
       "      <td>Anita Anand presents political debate and disc...</td>\n",
       "    </tr>\n",
       "  </tbody>\n",
       "</table>\n",
       "</div>"
      ],
      "text/plain": [
       "  Episode Code                                              Title  \\\n",
       "0     m0017cry  Lord Blunkett, David Davis MP, Nancy Fielder, ...   \n",
       "1     m00174ld  Catrina Davies, Jim McMahon MP, Selaine Saxby ...   \n",
       "2     m0016y66  Bim Afolami MP, Dame Margaret Beckett MP, Hele...   \n",
       "3     m0016ppj  Dr Stephen Farry MP, John Finucane MP, Claire ...   \n",
       "4     m0016hj0  Sir Geoffrey Clifton-Brown MP, Dame Meg Hillie...   \n",
       "\n",
       "  Release Date                                          Body Text  \n",
       "0  20 May 2022  Chris Mason presents political debate and disc...  \n",
       "1  13 May 2022  Chris Mason presents political debate and disc...  \n",
       "2  06 May 2022  Chris Mason presents political debate and disc...  \n",
       "3  29 Apr 2022  Chris Mason presents political debate and disc...  \n",
       "4  22 Apr 2022  Anita Anand presents political debate and disc...  "
      ]
     },
     "execution_count": 112,
     "metadata": {},
     "output_type": "execute_result"
    }
   ],
   "source": [
    "episodeDetails.head()"
   ]
  },
  {
   "cell_type": "code",
   "execution_count": 113,
   "metadata": {},
   "outputs": [],
   "source": [
    "import spacy\n",
    "from spacy import displacy                   \n",
    "\n",
    "def extract_names(text):\n",
    "    nlp = spacy.load(\"en_core_web_lg\")     \n",
    "    sep = \"Producer\"\n",
    "    stripped = text.split(sep, 1)[0]                                                                                                            \n",
    "    sents = nlp(stripped)\n",
    "    displacy.render(sents, style=\"ent\")\n",
    "    return ([ee for ee in sents.ents if ee.label_ == 'PERSON'])"
   ]
  },
  {
   "cell_type": "code",
   "execution_count": 114,
   "metadata": {},
   "outputs": [
    {
     "data": {
      "text/html": [
       "<span class=\"tex2jax_ignore\"><div class=\"entities\" style=\"line-height: 2.5; direction: ltr\">\n",
       "<mark class=\"entity\" style=\"background: #ddd; padding: 0.45em 0.6em; margin: 0 0.25em; line-height: 1; border-radius: 0.35em;\">\n",
       "    Chris Mason\n",
       "    <span style=\"font-size: 0.8em; font-weight: bold; line-height: 1; border-radius: 0.35em; vertical-align: middle; margin-left: 0.5rem\">PER</span>\n",
       "</mark>\n",
       " presents political debate and discussion from \n",
       "<mark class=\"entity\" style=\"background: #ff9561; padding: 0.45em 0.6em; margin: 0 0.25em; line-height: 1; border-radius: 0.35em;\">\n",
       "    St Luke's School\n",
       "    <span style=\"font-size: 0.8em; font-weight: bold; line-height: 1; border-radius: 0.35em; vertical-align: middle; margin-left: 0.5rem\">LOC</span>\n",
       "</mark>\n",
       ", \n",
       "<mark class=\"entity\" style=\"background: #ddd; padding: 0.45em 0.6em; margin: 0 0.25em; line-height: 1; border-radius: 0.35em;\">\n",
       "    Redbourn\n",
       "    <span style=\"font-size: 0.8em; font-weight: bold; line-height: 1; border-radius: 0.35em; vertical-align: middle; margin-left: 0.5rem\">PER</span>\n",
       "</mark>\n",
       " with a panel which includes the Minister at the Home Office and the \n",
       "<mark class=\"entity\" style=\"background: #7aecec; padding: 0.45em 0.6em; margin: 0 0.25em; line-height: 1; border-radius: 0.35em;\">\n",
       "    Ministry of Justice\n",
       "    <span style=\"font-size: 0.8em; font-weight: bold; line-height: 1; border-radius: 0.35em; vertical-align: middle; margin-left: 0.5rem\">ORG</span>\n",
       "</mark>\n",
       " \n",
       "<mark class=\"entity\" style=\"background: #ddd; padding: 0.45em 0.6em; margin: 0 0.25em; line-height: 1; border-radius: 0.35em;\">\n",
       "    Tom Pursglove\n",
       "    <span style=\"font-size: 0.8em; font-weight: bold; line-height: 1; border-radius: 0.35em; vertical-align: middle; margin-left: 0.5rem\">PER</span>\n",
       "</mark>\n",
       " MP, \n",
       "<mark class=\"entity\" style=\"background: #7aecec; padding: 0.45em 0.6em; margin: 0 0.25em; line-height: 1; border-radius: 0.35em;\">\n",
       "    The Telegraph's Parliamentary\n",
       "    <span style=\"font-size: 0.8em; font-weight: bold; line-height: 1; border-radius: 0.35em; vertical-align: middle; margin-left: 0.5rem\">ORG</span>\n",
       "</mark>\n",
       " Sketchwriter \n",
       "<mark class=\"entity\" style=\"background: #ddd; padding: 0.45em 0.6em; margin: 0 0.25em; line-height: 1; border-radius: 0.35em;\">\n",
       "    Tim Stanley\n",
       "    <span style=\"font-size: 0.8em; font-weight: bold; line-height: 1; border-radius: 0.35em; vertical-align: middle; margin-left: 0.5rem\">PER</span>\n",
       "</mark>\n",
       ", the Shadow Attorney General \n",
       "<mark class=\"entity\" style=\"background: #ddd; padding: 0.45em 0.6em; margin: 0 0.25em; line-height: 1; border-radius: 0.35em;\">\n",
       "    Emily Thornberry MP\n",
       "    <span style=\"font-size: 0.8em; font-weight: bold; line-height: 1; border-radius: 0.35em; vertical-align: middle; margin-left: 0.5rem\">PER</span>\n",
       "</mark>\n",
       " and the \n",
       "<mark class=\"entity\" style=\"background: #7aecec; padding: 0.45em 0.6em; margin: 0 0.25em; line-height: 1; border-radius: 0.35em;\">\n",
       "    Liberal Democrat Education Spokesperson\n",
       "    <span style=\"font-size: 0.8em; font-weight: bold; line-height: 1; border-radius: 0.35em; vertical-align: middle; margin-left: 0.5rem\">ORG</span>\n",
       "</mark>\n",
       " Munira Wilson MP.</br>Producer: \n",
       "<mark class=\"entity\" style=\"background: #ddd; padding: 0.45em 0.6em; margin: 0 0.25em; line-height: 1; border-radius: 0.35em;\">\n",
       "    Camellia Sinclair\n",
       "Lead\n",
       "    <span style=\"font-size: 0.8em; font-weight: bold; line-height: 1; border-radius: 0.35em; vertical-align: middle; margin-left: 0.5rem\">PER</span>\n",
       "</mark>\n",
       " broadcast engineer: \n",
       "<mark class=\"entity\" style=\"background: #ddd; padding: 0.45em 0.6em; margin: 0 0.25em; line-height: 1; border-radius: 0.35em;\">\n",
       "    Andy Lenton Read\n",
       "    <span style=\"font-size: 0.8em; font-weight: bold; line-height: 1; border-radius: 0.35em; vertical-align: middle; margin-left: 0.5rem\">PER</span>\n",
       "</mark>\n",
       " less</div></span>"
      ],
      "text/plain": [
       "<IPython.core.display.HTML object>"
      ]
     },
     "metadata": {},
     "output_type": "display_data"
    },
    {
     "name": "stdout",
     "output_type": "stream",
     "text": [
      "LOCs: [St Luke's School]\n",
      "We have LOC: 1\n",
      "ORGs: []\n",
      "MISCs: []\n"
     ]
    },
    {
     "data": {
      "text/plain": [
       "\"St Luke's School\""
      ]
     },
     "execution_count": 114,
     "metadata": {},
     "output_type": "execute_result"
    }
   ],
   "source": [
    "def extract_location(text):\n",
    "    nlp_wk = spacy.load('xx_ent_wiki_sm')     \n",
    "    sep = \"Producer\"\n",
    "    stripped = text.split(sep, 1)[0]                                                                                                            \n",
    "    sents = nlp_wk(stripped)\n",
    "    \n",
    "    # Return Location\n",
    "    location = \"\"\n",
    "    \n",
    "    # Location extraction logic\n",
    "    loc_check = [ee for ee in sents.ents if ee.label_ == 'LOC']\n",
    "    print(\"LOCs: \" + str(loc_check))\n",
    "    if loc_check != []:\n",
    "        print(\"We have LOC: \" + str(len(loc_check)))\n",
    "        \n",
    "        # We should filter, so we only have loc's before the first non-loc\n",
    "        s = list([ee for ee in sents.ents])\n",
    "        s_labels = list([ee.label_ for ee in sents.ents])\n",
    "        \n",
    "        # find the first loc, iterate until difference\n",
    "        first_loc = s_labels.index('LOC')\n",
    "        end_of_loc = first_loc\n",
    "        \n",
    "        for i in range(first_loc, len(s_labels)):\n",
    "            if s_labels[i] == 'LOC':\n",
    "                end_of_loc += 1\n",
    "            else:\n",
    "                break\n",
    "        \n",
    "        before_first_loc = list(sents.ents)\n",
    "        before_first_loc = before_first_loc[:before_first_loc.index(loc_check[0])]\n",
    "        org_check = [ee for ee in before_first_loc if ee.label_ == 'ORG']\n",
    "        print(\"ORGs: \" + str(org_check))\n",
    "        if org_check == []:\n",
    "            # check if we have MISCs before it\n",
    "            misc_check = [ee for ee in before_first_loc if ee.label_ == 'MISC']\n",
    "            print(\"MISCs: \" + str(misc_check))\n",
    "            if misc_check == []:\n",
    "                location = str(', '.join(str(e) for e in s[first_loc:end_of_loc]))\n",
    "            else:\n",
    "                location = str(misc_check[len(misc_check)-1]) + \", \" + str(', '.join(str(e) for e in s[first_loc:end_of_loc]))\n",
    "        else:\n",
    "            print(\"We have ORG: \" + str(len(org_check)))\n",
    "            location = str(org_check[len(org_check) - 1]) + \", \" + str(', '.join(str(e) for e in s[first_loc:end_of_loc]))\n",
    "    else:\n",
    "        # We have detected no locations in the text\n",
    "        # So we return the first org\n",
    "        location = [ee for ee in sents.ents if ee.label_ == 'ORG'][0]\n",
    "        \n",
    "    # location shouldn't have a newline, let's strip after that\n",
    "    location = str(location).split(\"\\n\", 1)[0]  \n",
    "    # location shouldn't have trailing spaces\n",
    "    location = str(location).rstrip()\n",
    "    return location\n",
    "\n",
    "text = episodeDetails.iloc[20]['Body Text']\n",
    "\n",
    "nlp_wk = spacy.load('xx_ent_wiki_sm')\n",
    "doc = nlp_wk(text)\n",
    "displacy.render(doc, style=\"ent\")\n",
    "\n",
    "extract_location(text)"
   ]
  },
  {
   "cell_type": "code",
   "execution_count": 115,
   "metadata": {},
   "outputs": [
    {
     "data": {
      "text/html": [
       "<span class=\"tex2jax_ignore\"><div class=\"entities\" style=\"line-height: 2.5; direction: ltr\">\n",
       "<mark class=\"entity\" style=\"background: #aa9cfc; padding: 0.45em 0.6em; margin: 0 0.25em; line-height: 1; border-radius: 0.35em;\">\n",
       "    Chris Mason\n",
       "    <span style=\"font-size: 0.8em; font-weight: bold; line-height: 1; border-radius: 0.35em; vertical-align: middle; margin-left: 0.5rem\">PERSON</span>\n",
       "</mark>\n",
       " presents political debate and discussion from \n",
       "<mark class=\"entity\" style=\"background: #7aecec; padding: 0.45em 0.6em; margin: 0 0.25em; line-height: 1; border-radius: 0.35em;\">\n",
       "    St Luke's School\n",
       "    <span style=\"font-size: 0.8em; font-weight: bold; line-height: 1; border-radius: 0.35em; vertical-align: middle; margin-left: 0.5rem\">ORG</span>\n",
       "</mark>\n",
       ", Redbourn with a panel which includes the Minister at \n",
       "<mark class=\"entity\" style=\"background: #7aecec; padding: 0.45em 0.6em; margin: 0 0.25em; line-height: 1; border-radius: 0.35em;\">\n",
       "    the Home Office\n",
       "    <span style=\"font-size: 0.8em; font-weight: bold; line-height: 1; border-radius: 0.35em; vertical-align: middle; margin-left: 0.5rem\">ORG</span>\n",
       "</mark>\n",
       " and \n",
       "<mark class=\"entity\" style=\"background: #7aecec; padding: 0.45em 0.6em; margin: 0 0.25em; line-height: 1; border-radius: 0.35em;\">\n",
       "    the Ministry of Justice\n",
       "    <span style=\"font-size: 0.8em; font-weight: bold; line-height: 1; border-radius: 0.35em; vertical-align: middle; margin-left: 0.5rem\">ORG</span>\n",
       "</mark>\n",
       " \n",
       "<mark class=\"entity\" style=\"background: #aa9cfc; padding: 0.45em 0.6em; margin: 0 0.25em; line-height: 1; border-radius: 0.35em;\">\n",
       "    Tom Pursglove MP\n",
       "    <span style=\"font-size: 0.8em; font-weight: bold; line-height: 1; border-radius: 0.35em; vertical-align: middle; margin-left: 0.5rem\">PERSON</span>\n",
       "</mark>\n",
       ", The \n",
       "<mark class=\"entity\" style=\"background: #7aecec; padding: 0.45em 0.6em; margin: 0 0.25em; line-height: 1; border-radius: 0.35em;\">\n",
       "    Telegraph\n",
       "    <span style=\"font-size: 0.8em; font-weight: bold; line-height: 1; border-radius: 0.35em; vertical-align: middle; margin-left: 0.5rem\">ORG</span>\n",
       "</mark>\n",
       "'s Parliamentary Sketchwriter \n",
       "<mark class=\"entity\" style=\"background: #aa9cfc; padding: 0.45em 0.6em; margin: 0 0.25em; line-height: 1; border-radius: 0.35em;\">\n",
       "    Tim Stanley\n",
       "    <span style=\"font-size: 0.8em; font-weight: bold; line-height: 1; border-radius: 0.35em; vertical-align: middle; margin-left: 0.5rem\">PERSON</span>\n",
       "</mark>\n",
       ", the Shadow Attorney General \n",
       "<mark class=\"entity\" style=\"background: #aa9cfc; padding: 0.45em 0.6em; margin: 0 0.25em; line-height: 1; border-radius: 0.35em;\">\n",
       "    Emily Thornberry MP\n",
       "    <span style=\"font-size: 0.8em; font-weight: bold; line-height: 1; border-radius: 0.35em; vertical-align: middle; margin-left: 0.5rem\">PERSON</span>\n",
       "</mark>\n",
       " and \n",
       "<mark class=\"entity\" style=\"background: #7aecec; padding: 0.45em 0.6em; margin: 0 0.25em; line-height: 1; border-radius: 0.35em;\">\n",
       "    the Liberal Democrat Education\n",
       "    <span style=\"font-size: 0.8em; font-weight: bold; line-height: 1; border-radius: 0.35em; vertical-align: middle; margin-left: 0.5rem\">ORG</span>\n",
       "</mark>\n",
       " Spokesperson \n",
       "<mark class=\"entity\" style=\"background: #aa9cfc; padding: 0.45em 0.6em; margin: 0 0.25em; line-height: 1; border-radius: 0.35em;\">\n",
       "    Munira Wilson MP\n",
       "    <span style=\"font-size: 0.8em; font-weight: bold; line-height: 1; border-radius: 0.35em; vertical-align: middle; margin-left: 0.5rem\">PERSON</span>\n",
       "</mark>\n",
       ".</br></div></span>"
      ],
      "text/plain": [
       "<IPython.core.display.HTML object>"
      ]
     },
     "metadata": {},
     "output_type": "display_data"
    },
    {
     "data": {
      "text/plain": [
       "[Chris Mason,\n",
       " Tom Pursglove MP,\n",
       " Tim Stanley,\n",
       " Emily Thornberry MP,\n",
       " Munira Wilson MP]"
      ]
     },
     "execution_count": 115,
     "metadata": {},
     "output_type": "execute_result"
    }
   ],
   "source": [
    "text = episodeDetails.iloc[20]['Body Text']\n",
    "extract_names(text)"
   ]
  },
  {
   "cell_type": "code",
   "execution_count": 116,
   "metadata": {},
   "outputs": [],
   "source": [
    "#episodeDetails['Names List'] = episodeDetails.apply(lambda row : extract_names(row['Body Text']), axis = 1)"
   ]
  },
  {
   "cell_type": "code",
   "execution_count": 117,
   "metadata": {},
   "outputs": [],
   "source": [
    "#episodeDetails['Name Count'] = episodeDetails.apply(lambda row : len(row['Names List']), axis = 1)"
   ]
  }
 ],
 "metadata": {
  "interpreter": {
   "hash": "e7370f93d1d0cde622a1f8e1c04877d8463912d04d973331ad4851f04de6915a"
  },
  "kernelspec": {
   "display_name": "Python 3.10.4 64-bit",
   "language": "python",
   "name": "python3"
  },
  "language_info": {
   "codemirror_mode": {
    "name": "ipython",
    "version": 3
   },
   "file_extension": ".py",
   "mimetype": "text/x-python",
   "name": "python",
   "nbconvert_exporter": "python",
   "pygments_lexer": "ipython3",
   "version": "3.10.4"
  },
  "orig_nbformat": 4
 },
 "nbformat": 4,
 "nbformat_minor": 2
}
